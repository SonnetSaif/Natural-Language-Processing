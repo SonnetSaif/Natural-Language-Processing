import pandas as pd
import re
import nltk
from nltk.corpus import stopwords
from nltk.stem.porter import PorterStemmer
from nltk.stem import WordNetLemmatizer
nltk.download('punkt')
nltk.download('stopwords') 
from sklearn.model_selection import train_test_split
from sklearn.feature_extraction.text import CountVectorizer, TfidfVectorizer
from sklearn.naive_bayes import MultinomialNB
from sklearn.metrics import confusion_matrix, accuracy_score


sms = pd.read_csv("/content/SMSSpamCollection", sep="\t", names=["label", "messages"])

ps = PorterStemmer()
# wl = WordNetLemmatizer()
corpus = []

for i in range(0, len(sms)):
    review = re.sub('[^a-zA-Z]', ' ', sms['messages'][i])
    review = review.lower()
    review = review.split()
    review = [ps.stem(word) for word in review if not word in set(stopwords.words('english'))]
    review = ' '.join(review)
    corpus.append(review)
    
# for i in range(0, len(sms)):
#     review = re.sub('[^a-zA-Z]', ' ', sms['messages'][i])
#     review = review.lower()
#     review = review.split()
#     review = [wl.lemmatize(word) for word in review if not word in set(stopwords.words('english'))]
#     review = ' '.join(review)
#     corpus.append(review)
    

cv = CountVectorizer(max_features=5000)
X = cv.fit_transform(corpus).toarray()
# tv = TfidfVectorizer(max_features=5000)
# X = tv.fit_transform(corpus).toarray()

y = pd.get_dummies(sms['label'])
y = y.iloc[:,1].values

X_train, X_test, y_train, y_test = train_test_split(X, y, test_size = 0.30, random_state=0)

model = MultinomialNB()
model.fit(X_train, y_train)

y_pred=spam_detect_model.predict(X_test)
cm = confusion_matrix(y_test, y_pred)
acc = accuracy_score(y_test, y_pred)
